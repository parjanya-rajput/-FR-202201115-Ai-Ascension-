{
  "nbformat": 4,
  "nbformat_minor": 0,
  "metadata": {
    "colab": {
      "provenance": [],
      "mount_file_id": "1qCEEgjKHLYPqiEZz2k_DnflsYpczOVW1",
      "authorship_tag": "ABX9TyPW0wo8RPw9e+JFL6rrFM3a",
      "include_colab_link": true
    },
    "kernelspec": {
      "name": "python3",
      "display_name": "Python 3"
    },
    "language_info": {
      "name": "python"
    },
    "gpuClass": "standard",
    "accelerator": "GPU"
  },
  "cells": [
    {
      "cell_type": "markdown",
      "metadata": {
        "id": "view-in-github",
        "colab_type": "text"
      },
      "source": [
        "<a href=\"https://colab.research.google.com/github/parjanya-rajput/-FR-202201115-Ai-Ascension-/blob/main/FaceRecognition.ipynb\" target=\"_parent\"><img src=\"https://colab.research.google.com/assets/colab-badge.svg\" alt=\"Open In Colab\"/></a>"
      ]
    },
    {
      "cell_type": "markdown",
      "source": [
        "WELCOM TO THE FACE RECOGNITION SYSTEM BUILT USING SIAMESE NETWORK"
      ],
      "metadata": {
        "id": "Z7pheR9CDO7b"
      }
    },
    {
      "cell_type": "code",
      "source": [
        "!pip install opencv-python matplotlib"
      ],
      "metadata": {
        "colab": {
          "base_uri": "https://localhost:8080/"
        },
        "id": "tAW6EUe7Eh4M",
        "outputId": "1ae7c177-3e89-4f11-ecf5-507ecd00705c"
      },
      "execution_count": null,
      "outputs": [
        {
          "output_type": "stream",
          "name": "stdout",
          "text": [
            "Looking in indexes: https://pypi.org/simple, https://us-python.pkg.dev/colab-wheels/public/simple/\n",
            "Requirement already satisfied: opencv-python in /usr/local/lib/python3.8/dist-packages (4.6.0.66)\n",
            "Requirement already satisfied: matplotlib in /usr/local/lib/python3.8/dist-packages (3.5.3)\n",
            "Requirement already satisfied: numpy>=1.17.3 in /usr/local/lib/python3.8/dist-packages (from opencv-python) (1.22.4)\n",
            "Requirement already satisfied: python-dateutil>=2.7 in /usr/local/lib/python3.8/dist-packages (from matplotlib) (2.8.2)\n",
            "Requirement already satisfied: packaging>=20.0 in /usr/local/lib/python3.8/dist-packages (from matplotlib) (23.0)\n",
            "Requirement already satisfied: kiwisolver>=1.0.1 in /usr/local/lib/python3.8/dist-packages (from matplotlib) (1.4.4)\n",
            "Requirement already satisfied: fonttools>=4.22.0 in /usr/local/lib/python3.8/dist-packages (from matplotlib) (4.38.0)\n",
            "Requirement already satisfied: pillow>=6.2.0 in /usr/local/lib/python3.8/dist-packages (from matplotlib) (8.4.0)\n",
            "Requirement already satisfied: cycler>=0.10 in /usr/local/lib/python3.8/dist-packages (from matplotlib) (0.11.0)\n",
            "Requirement already satisfied: pyparsing>=2.2.1 in /usr/local/lib/python3.8/dist-packages (from matplotlib) (3.0.9)\n",
            "Requirement already satisfied: six>=1.5 in /usr/local/lib/python3.8/dist-packages (from python-dateutil>=2.7->matplotlib) (1.15.0)\n"
          ]
        }
      ]
    },
    {
      "cell_type": "code",
      "source": [
        "#Importing dependencies\n",
        "from IPython.display import display, Javascript, Image\n",
        "from google.colab.output import eval_js\n",
        "from base64 import b64decode, b64encode\n",
        "import uuid\n",
        "import cv2\n",
        "import os\n",
        "import random\n",
        "import numpy as np\n",
        "from matplotlib import pyplot as plt\n",
        "import PIL\n",
        "import io\n",
        "import html\n",
        "import time\n",
        "#Tensorflow dependencies\n",
        "from tensorflow.keras import Model\n",
        "from tensorflow.keras.layers import Layer, Conv2D, Dense, MaxPooling2D, Input, Flatten\n",
        "import tensorflow as tf"
      ],
      "metadata": {
        "id": "R_QWm6q4FtF-"
      },
      "execution_count": 2,
      "outputs": []
    },
    {
      "cell_type": "code",
      "source": [
        "#Setting Paths\n",
        "POS_PATH = os.path.join('data', 'positive')\n",
        "NEG_PATH = os.path.join('data', 'negative')\n",
        "ANC_PATH = os.path.join('data', 'anchor')"
      ],
      "metadata": {
        "id": "dOOjUoexaxLc"
      },
      "execution_count": null,
      "outputs": []
    },
    {
      "cell_type": "code",
      "source": [
        "#Make Folders\n",
        "os.makedirs(POS_PATH)\n",
        "os.makedirs(NEG_PATH)\n",
        "os.makedirs(ANC_PATH)"
      ],
      "metadata": {
        "id": "THqhUTQ_bXyn"
      },
      "execution_count": null,
      "outputs": []
    },
    {
      "cell_type": "markdown",
      "source": [
        "Labbelled faces in **WILD DATASET**\n",
        "URL: http://vis-www.cs.umass.edu/lfw/"
      ],
      "metadata": {
        "id": "Y2g4oMdvea7G"
      }
    },
    {
      "cell_type": "code",
      "source": [
        "#Uncompressing the Tar GZ file lfw\n",
        "!tar -xf lfw.tgz"
      ],
      "metadata": {
        "id": "I040jq4_fDUy"
      },
      "execution_count": null,
      "outputs": []
    },
    {
      "cell_type": "code",
      "source": [
        "#Moving all the wild face data to negative for training the model\n",
        "for directory in os.listdir('lfw'):\n",
        "  for f in os.listdir(os.path.join('lfw', directory)):\n",
        "    EX_PATH = os.path.join('lfw', directory, f)\n",
        "    NEW_PATH = os.path.join(NEG_PATH, f)\n",
        "    os.replace(EX_PATH, NEW_PATH)"
      ],
      "metadata": {
        "id": "SDPhcEpaj616"
      },
      "execution_count": null,
      "outputs": []
    },
    {
      "cell_type": "code",
      "source": [
        "#Code for removing all the lfw set files and saving space\n",
        "for dir in os.listdir('lfw'):\n",
        "  path = os.path.join('lfw', dir)\n",
        "  os.rmdir(path)"
      ],
      "metadata": {
        "id": "h4czh75ejWH_"
      },
      "execution_count": null,
      "outputs": []
    },
    {
      "cell_type": "markdown",
      "source": [
        "Helper Functions for capturing Image in Collab"
      ],
      "metadata": {
        "id": "MfBHjVaujwre"
      }
    },
    {
      "cell_type": "code",
      "source": [
        "# function to convert the JavaScript object into an OpenCV image\n",
        "def js_to_image(js_reply):\n",
        "  \"\"\"\n",
        "  Params:\n",
        "          js_reply: JavaScript object containing image from webcam\n",
        "  Returns:\n",
        "          img: OpenCV BGR image\n",
        "  \"\"\"\n",
        "  # decode base64 image\n",
        "  image_bytes = b64decode(js_reply.split(',')[1])\n",
        "  # convert bytes to numpy array\n",
        "  jpg_as_np = np.frombuffer(image_bytes, dtype=np.uint8)\n",
        "  # decode numpy array into OpenCV BGR image\n",
        "  img = cv2.imdecode(jpg_as_np, flags=1)\n",
        "\n",
        "  return img\n",
        "\n",
        "# function to convert OpenCV Rectangle bounding box image into base64 byte string to be overlayed on video stream\n",
        "def bbox_to_bytes(bbox_array):\n",
        "  \"\"\"\n",
        "  Params:\n",
        "          bbox_array: Numpy array (pixels) containing rectangle to overlay on video stream.\n",
        "  Returns:\n",
        "        bytes: Base64 image byte string\n",
        "  \"\"\"\n",
        "  # convert array into PIL image\n",
        "  bbox_PIL = PIL.Image.fromarray(bbox_array, 'RGBA')\n",
        "  iobuf = io.BytesIO()\n",
        "  # format bbox into png for return\n",
        "  bbox_PIL.save(iobuf, format='png')\n",
        "  # format return string\n",
        "  bbox_bytes = 'data:image/png;base64,{}'.format((str(b64encode(iobuf.getvalue()), 'utf-8')))\n",
        "\n",
        "  return bbox_bytes"
      ],
      "metadata": {
        "id": "mcOtn3TRjmwT"
      },
      "execution_count": null,
      "outputs": []
    },
    {
      "cell_type": "markdown",
      "source": [
        "Haar Cascade Classifier"
      ],
      "metadata": {
        "id": "KvmVE_Frj7NL"
      }
    },
    {
      "cell_type": "code",
      "source": [
        "# initialize the Haar Cascade face detection model\n",
        "face_cascade = cv2.CascadeClassifier(cv2.samples.findFile(cv2.data.haarcascades + 'haarcascade_frontalface_default.xml'))"
      ],
      "metadata": {
        "id": "zYNtC00TyCg1"
      },
      "execution_count": null,
      "outputs": []
    },
    {
      "cell_type": "code",
      "source": [
        "def take_photo(filename='{}.jpg'.format(uuid.uuid1()), quality=0.8):\n",
        "  js = Javascript('''\n",
        "    async function takePhoto(quality) {\n",
        "      const div = document.createElement('div');\n",
        "      const capture = document.createElement('button');\n",
        "      capture.textContent = 'Capture';\n",
        "      div.appendChild(capture);\n",
        "\n",
        "      const video = document.createElement('video');\n",
        "      video.style.display = 'block';\n",
        "      const stream = await navigator.mediaDevices.getUserMedia({video: true});\n",
        "\n",
        "      document.body.appendChild(div);\n",
        "      div.appendChild(video);\n",
        "      video.srcObject = stream;\n",
        "      await video.play();\n",
        "\n",
        "      // Resize the output to fit the video element.\n",
        "      google.colab.output.setIframeHeight(document.documentElement.scrollHeight, true);\n",
        "\n",
        "      // Wait for Capture to be clicked.\n",
        "      await new Promise((resolve) => capture.onclick = resolve)\n",
        "        \n",
        "      const canvas = document.createElement('canvas');\n",
        "      canvas.width = video.videoWidth;\n",
        "      canvas.height = video.videoHeight;\n",
        "      canvas.getContext('2d').drawImage(video, 0, 0);\n",
        "      stream.getVideoTracks()[0].stop();\n",
        "      div.remove();\n",
        "      return canvas.toDataURL('image/jpeg', quality);\n",
        "      \n",
        "    }\n",
        "    ''')\n",
        "  display(js)\n",
        "\n",
        "  # get photo data\n",
        "  data = eval_js('takePhoto({})'.format(quality))\n",
        "  # get OpenCV format image\n",
        "  img = js_to_image(data) \n",
        "  # grayscale img\n",
        "  gray = cv2.cvtColor(img, cv2.COLOR_RGB2GRAY)\n",
        "  print(gray.shape)\n",
        "  # get face bounding box coordinates using Haar Cascade\n",
        "  faces = face_cascade.detectMultiScale(gray)\n",
        "  # draw face bounding box on image\n",
        "  for (x,y,w,h) in faces:\n",
        "      # img = cv2.rectangle(img,(x,y),(x+w,y+h),(255,0,0),2)\n",
        "      img = img[y:y+h, x:x+w]\n",
        "      print(x,y,w,h)\n",
        "  # save image\n",
        "  cv2.imwrite(filename, img)\n",
        "\n",
        "  return filename"
      ],
      "metadata": {
        "id": "FOx0OWCzyG9d"
      },
      "execution_count": null,
      "outputs": []
    },
    {
      "cell_type": "code",
      "source": [
        "try:\n",
        "  #Just change ANC_PATH to  POS_PATH for stroing positive image\n",
        "  filename = take_photo(os.path.join(ANC_PATH,'{}.jpg'.format(uuid.uuid1())))\n",
        "  print('Saved to {}'.format(filename))\n",
        "  \n",
        "  # Show the image which was just taken.\n",
        "  display(Image(filename))\n",
        "except Exception as err:\n",
        "  # Errors will be thrown if the user does not have a webcam or if they do not\n",
        "  # grant the page permission to access it.\n",
        "  print(str(err))"
      ],
      "metadata": {
        "id": "wJxaH-mOyG1Z"
      },
      "execution_count": null,
      "outputs": []
    },
    {
      "cell_type": "code",
      "source": [
        "# Change jpg to png for differnet type of image \n",
        "anchor = tf.data.Dataset.list_files(ANC_PATH+'/*.jpg').take(300)\n",
        "positive = tf.data.Dataset.list_files(POS_PATH+'/*.jpg').take(300)\n",
        "negative = tf.data.Dataset.list_files(NEG_PATH+'/*.jpg').take(300)"
      ],
      "metadata": {
        "id": "hhsjKbnxYhry"
      },
      "execution_count": null,
      "outputs": []
    },
    {
      "cell_type": "code",
      "source": [
        "dir_test = anchor.as_numpy_iterator()"
      ],
      "metadata": {
        "id": "mO-hCknsZS7D"
      },
      "execution_count": null,
      "outputs": []
    },
    {
      "cell_type": "code",
      "source": [
        "dir_test.next()"
      ],
      "metadata": {
        "colab": {
          "base_uri": "https://localhost:8080/"
        },
        "id": "AdJdkHodZZaJ",
        "outputId": "f4bd85cb-9352-4ec2-c47a-ecd7c3aec39e"
      },
      "execution_count": null,
      "outputs": [
        {
          "output_type": "execute_result",
          "data": {
            "text/plain": [
              "b'data/anchor/e6bfa924-bdd9-11ed-aec5-0242ac1c000c.jpg'"
            ]
          },
          "metadata": {},
          "execution_count": 22
        }
      ]
    },
    {
      "cell_type": "markdown",
      "source": [
        "Preprocessing Function"
      ],
      "metadata": {
        "id": "lO-MqqCRaxDs"
      }
    },
    {
      "cell_type": "code",
      "source": [
        "def preprocess(file_path):\n",
        "\n",
        "  #Reading the image from the filepath\n",
        "  byte_img = tf.io.read_file(file_path)\n",
        "\n",
        "  #Loading the image from filepath\n",
        "  img = tf.io.decode_jpeg(byte_img)\n",
        "\n",
        "  #Resizing the image\n",
        "  img = tf.image.resize(img, (105,105))\n",
        "\n",
        "  #Scaling the image. to fit in 0 to 1\n",
        "  img = img / 255.0\n",
        "\n",
        "  return img"
      ],
      "metadata": {
        "id": "3K1MrnQqawu3"
      },
      "execution_count": null,
      "outputs": []
    },
    {
      "cell_type": "code",
      "source": [
        "img = preprocess('data/anchor/e6bfa924-bdd9-11ed-aec5-0242ac1c000c.jpg')"
      ],
      "metadata": {
        "id": "5OVULcdVbXh5"
      },
      "execution_count": null,
      "outputs": []
    },
    {
      "cell_type": "code",
      "source": [
        "img.numpy().max()"
      ],
      "metadata": {
        "colab": {
          "base_uri": "https://localhost:8080/"
        },
        "id": "rMQlDjs8bqbj",
        "outputId": "7672146c-f394-4ea7-a362-7f88e3bd7f79"
      },
      "execution_count": null,
      "outputs": [
        {
          "output_type": "execute_result",
          "data": {
            "text/plain": [
              "1.0"
            ]
          },
          "metadata": {},
          "execution_count": 29
        }
      ]
    },
    {
      "cell_type": "code",
      "source": [
        "plt.imshow(img)"
      ],
      "metadata": {
        "id": "jn5iJGAVbe9q"
      },
      "execution_count": null,
      "outputs": []
    },
    {
      "cell_type": "markdown",
      "source": [
        "Now I am trying to create a labelled dataset"
      ],
      "metadata": {
        "id": "7_s8JiP3dEje"
      }
    },
    {
      "cell_type": "code",
      "source": [
        "#What it will be resulting\n",
        "# (anchor,positive) => 1,1,1,1,1\n",
        "# (anchor,negative) => 0,0,0,0,0"
      ],
      "metadata": {
        "id": "zlL7oSChdJfE"
      },
      "execution_count": null,
      "outputs": []
    },
    {
      "cell_type": "code",
      "source": [
        "positives = tf.data.Dataset.zip((anchor, positive, tf.data.Dataset.from_tensor_slices(tf.ones(len(anchor)))))\n",
        "negatives = tf.data.Dataset.zip((anchor, negative, tf.data.Dataset.from_tensor_slices(tf.zeros(len(anchor)))))\n",
        "data = positives.concatenate(negatives)"
      ],
      "metadata": {
        "id": "4szEfjskdWgp"
      },
      "execution_count": null,
      "outputs": []
    },
    {
      "cell_type": "code",
      "source": [
        "samples = data.as_numpy_iterator()"
      ],
      "metadata": {
        "id": "v4sH9-fVeDmz"
      },
      "execution_count": null,
      "outputs": []
    },
    {
      "cell_type": "code",
      "source": [
        "exp = samples.next()"
      ],
      "metadata": {
        "id": "2HmPAA_ye_-V"
      },
      "execution_count": null,
      "outputs": []
    },
    {
      "cell_type": "code",
      "source": [
        "exp"
      ],
      "metadata": {
        "colab": {
          "base_uri": "https://localhost:8080/"
        },
        "id": "JIsRIm6lgLPg",
        "outputId": "d8de5b2d-3f98-4ff6-d8a4-0c0b0afdc6c5"
      },
      "execution_count": null,
      "outputs": [
        {
          "output_type": "execute_result",
          "data": {
            "text/plain": [
              "(b'data/anchor/e6bfa924-bdd9-11ed-aec5-0242ac1c000c.jpg',\n",
              " b'data/positive/076b7446-bdda-11ed-aec5-0242ac1c000c.jpg',\n",
              " 1.0)"
            ]
          },
          "metadata": {},
          "execution_count": 45
        }
      ]
    },
    {
      "cell_type": "markdown",
      "source": [
        "Training and Testing the Partition"
      ],
      "metadata": {
        "id": "Sn7ePy4pfcyW"
      }
    },
    {
      "cell_type": "code",
      "source": [
        "def preprocess_twin(input_img, validation_img, label):\n",
        "  return(preprocess(input_img), preprocess(validation_img), label)"
      ],
      "metadata": {
        "id": "aJ4SjyWAfgEA"
      },
      "execution_count": null,
      "outputs": []
    },
    {
      "cell_type": "code",
      "source": [
        "res = preprocess_twin(*exp)"
      ],
      "metadata": {
        "id": "tVDMjDGqf-IL"
      },
      "execution_count": null,
      "outputs": []
    },
    {
      "cell_type": "code",
      "source": [
        "res[2]"
      ],
      "metadata": {
        "id": "smKFS6vUhH83"
      },
      "execution_count": null,
      "outputs": []
    },
    {
      "cell_type": "markdown",
      "source": [
        "Building DATALOADER PIPELINE"
      ],
      "metadata": {
        "id": "Nt_IA1cWhqu4"
      }
    },
    {
      "cell_type": "code",
      "source": [
        "data = data.map(preprocess_twin)\n",
        "data = data.cache()\n",
        "data.shuffle(buffer_size=1024)"
      ],
      "metadata": {
        "colab": {
          "base_uri": "https://localhost:8080/"
        },
        "id": "5RRv-Ot2ht-8",
        "outputId": "6aa46b8b-b019-4818-a09c-5155bcaedf3b"
      },
      "execution_count": null,
      "outputs": [
        {
          "output_type": "execute_result",
          "data": {
            "text/plain": [
              "<ShuffleDataset element_spec=(TensorSpec(shape=(105, 105, None), dtype=tf.float32, name=None), TensorSpec(shape=(105, 105, None), dtype=tf.float32, name=None), TensorSpec(shape=(), dtype=tf.float32, name=None))>"
            ]
          },
          "metadata": {},
          "execution_count": 52
        }
      ]
    },
    {
      "cell_type": "code",
      "source": [
        "samples = data.as_numpy_iterator()"
      ],
      "metadata": {
        "id": "o48DkbAsihpU"
      },
      "execution_count": null,
      "outputs": []
    },
    {
      "cell_type": "code",
      "source": [
        "samp = samples.next()"
      ],
      "metadata": {
        "id": "BIEExSe6ioXw"
      },
      "execution_count": null,
      "outputs": []
    },
    {
      "cell_type": "code",
      "source": [
        "#Train Partition\n",
        "train_data = data.take(round(len(data)*.7))\n",
        "train_data = train_data.batch(16)\n",
        "train_data = train_data.prefetch(8)"
      ],
      "metadata": {
        "id": "YHCjlYyvitL0"
      },
      "execution_count": null,
      "outputs": []
    },
    {
      "cell_type": "code",
      "source": [
        "train_data"
      ],
      "metadata": {
        "colab": {
          "base_uri": "https://localhost:8080/"
        },
        "id": "4hNZwyUHkHR5",
        "outputId": "2a7baaf9-dc35-4db6-c099-1a380bd1e403"
      },
      "execution_count": null,
      "outputs": [
        {
          "output_type": "execute_result",
          "data": {
            "text/plain": [
              "<PrefetchDataset element_spec=(TensorSpec(shape=(None, 105, 105, None), dtype=tf.float32, name=None), TensorSpec(shape=(None, 105, 105, None), dtype=tf.float32, name=None), TensorSpec(shape=(None,), dtype=tf.float32, name=None))>"
            ]
          },
          "metadata": {},
          "execution_count": 64
        }
      ]
    },
    {
      "cell_type": "code",
      "source": [
        "#Testing Data\n",
        "test_data = data.skip(round(len(data)*.7))\n",
        "test_data = test_data.take(round(len(data)*.3))\n",
        "test_data = test_data.batch(16)\n",
        "test_data = test_data.prefetch(8)"
      ],
      "metadata": {
        "id": "amyBrze0kYNv"
      },
      "execution_count": null,
      "outputs": []
    },
    {
      "cell_type": "markdown",
      "source": [
        "**EMBEDDING LAYER**"
      ],
      "metadata": {
        "id": "sXWkPsW4Xijb"
      }
    },
    {
      "cell_type": "code",
      "source": [
        "inp = Input(shape=(105,105,3), name = 'input_img')"
      ],
      "metadata": {
        "id": "WvtlA39QYyT-"
      },
      "execution_count": 3,
      "outputs": []
    },
    {
      "cell_type": "code",
      "source": [
        "c1 = Conv2D(64, (10,10), activation='relu')(inp)"
      ],
      "metadata": {
        "id": "4rvN7pHpY4EQ"
      },
      "execution_count": 4,
      "outputs": []
    },
    {
      "cell_type": "code",
      "source": [
        "c1"
      ],
      "metadata": {
        "colab": {
          "base_uri": "https://localhost:8080/"
        },
        "id": "nui-p1CJZTGv",
        "outputId": "c52d3f5d-11b2-4c87-8088-7552780cfdb7"
      },
      "execution_count": 5,
      "outputs": [
        {
          "output_type": "execute_result",
          "data": {
            "text/plain": [
              "<KerasTensor: shape=(None, 96, 96, 64) dtype=float32 (created by layer 'conv2d')>"
            ]
          },
          "metadata": {},
          "execution_count": 5
        }
      ]
    },
    {
      "cell_type": "code",
      "source": [
        "m1 = MaxPooling2D(64, (2,2), padding='same')(c1)"
      ],
      "metadata": {
        "id": "cAHl0ORhZ4CE"
      },
      "execution_count": 6,
      "outputs": []
    },
    {
      "cell_type": "code",
      "source": [
        "m1"
      ],
      "metadata": {
        "colab": {
          "base_uri": "https://localhost:8080/"
        },
        "id": "lo8cWD4uZ3sM",
        "outputId": "3e91e9ea-a8ef-4202-cd0a-4592b8cdfd28"
      },
      "execution_count": 7,
      "outputs": [
        {
          "output_type": "execute_result",
          "data": {
            "text/plain": [
              "<KerasTensor: shape=(None, 48, 48, 64) dtype=float32 (created by layer 'max_pooling2d')>"
            ]
          },
          "metadata": {},
          "execution_count": 7
        }
      ]
    },
    {
      "cell_type": "code",
      "source": [
        "c2 = Conv2D(128, (7,7), activation='relu')(m1)\n",
        "m2 = MaxPooling2D(64, (2,2), padding='same')(c2)"
      ],
      "metadata": {
        "id": "Tsh25NETathS"
      },
      "execution_count": 8,
      "outputs": []
    },
    {
      "cell_type": "code",
      "source": [
        "c2"
      ],
      "metadata": {
        "colab": {
          "base_uri": "https://localhost:8080/"
        },
        "id": "mDu3ZmKpatbT",
        "outputId": "de861f37-0721-40e6-89d8-b7d3220bbe45"
      },
      "execution_count": 9,
      "outputs": [
        {
          "output_type": "execute_result",
          "data": {
            "text/plain": [
              "<KerasTensor: shape=(None, 42, 42, 128) dtype=float32 (created by layer 'conv2d_1')>"
            ]
          },
          "metadata": {},
          "execution_count": 9
        }
      ]
    },
    {
      "cell_type": "code",
      "source": [
        "m2"
      ],
      "metadata": {
        "colab": {
          "base_uri": "https://localhost:8080/"
        },
        "id": "PUnwvCSNatTf",
        "outputId": "47e3b864-2359-4c86-9998-1535340a34b9"
      },
      "execution_count": 10,
      "outputs": [
        {
          "output_type": "execute_result",
          "data": {
            "text/plain": [
              "<KerasTensor: shape=(None, 21, 21, 128) dtype=float32 (created by layer 'max_pooling2d_1')>"
            ]
          },
          "metadata": {},
          "execution_count": 10
        }
      ]
    },
    {
      "cell_type": "code",
      "source": [
        "c3 = Conv2D(128, (4,4), activation='relu')(m2)\n",
        "m3 = MaxPooling2D(64, (2,2), padding='same')(c3)"
      ],
      "metadata": {
        "id": "MveqyQkKdAKd"
      },
      "execution_count": 11,
      "outputs": []
    },
    {
      "cell_type": "code",
      "source": [
        "m3"
      ],
      "metadata": {
        "colab": {
          "base_uri": "https://localhost:8080/"
        },
        "id": "zLv8p0SidAIX",
        "outputId": "bc349e1d-c956-4fb9-ed49-58a2e22b00c7"
      },
      "execution_count": 12,
      "outputs": [
        {
          "output_type": "execute_result",
          "data": {
            "text/plain": [
              "<KerasTensor: shape=(None, 9, 9, 128) dtype=float32 (created by layer 'max_pooling2d_2')>"
            ]
          },
          "metadata": {},
          "execution_count": 12
        }
      ]
    },
    {
      "cell_type": "code",
      "source": [
        "c4 = Conv2D(256, (4,4), activation='relu')(m3)\n",
        "f1 = Flatten()(c4)\n",
        "d1 = Dense(4096, activation='sigmoid')(f1)"
      ],
      "metadata": {
        "id": "hT9HHCn4dAGB"
      },
      "execution_count": 13,
      "outputs": []
    },
    {
      "cell_type": "markdown",
      "source": [
        "Flatten results c4=> 6*6*256 = 9216"
      ],
      "metadata": {
        "id": "yUG6iAnEdfyd"
      }
    },
    {
      "cell_type": "code",
      "source": [
        "f1"
      ],
      "metadata": {
        "colab": {
          "base_uri": "https://localhost:8080/"
        },
        "id": "qiIKywQodADa",
        "outputId": "8f21f5a7-56d5-4c0f-88d3-0240348e4ece"
      },
      "execution_count": 14,
      "outputs": [
        {
          "output_type": "execute_result",
          "data": {
            "text/plain": [
              "<KerasTensor: shape=(None, 9216) dtype=float32 (created by layer 'flatten')>"
            ]
          },
          "metadata": {},
          "execution_count": 14
        }
      ]
    },
    {
      "cell_type": "code",
      "source": [
        "d1"
      ],
      "metadata": {
        "colab": {
          "base_uri": "https://localhost:8080/"
        },
        "id": "-gYNrlA0dAAl",
        "outputId": "9ef3099b-cde7-49b7-8b6c-7497931ac654"
      },
      "execution_count": 15,
      "outputs": [
        {
          "output_type": "execute_result",
          "data": {
            "text/plain": [
              "<KerasTensor: shape=(None, 4096) dtype=float32 (created by layer 'dense')>"
            ]
          },
          "metadata": {},
          "execution_count": 15
        }
      ]
    },
    {
      "cell_type": "code",
      "source": [
        "mod = Model(inputs=[inp], outputs=[d1], name='embedding')"
      ],
      "metadata": {
        "id": "pDFHIU9gofn8"
      },
      "execution_count": 17,
      "outputs": []
    },
    {
      "cell_type": "code",
      "source": [
        "mod.summary()"
      ],
      "metadata": {
        "colab": {
          "base_uri": "https://localhost:8080/"
        },
        "id": "za4shxElopuR",
        "outputId": "395de4d4-5e3c-4189-b5e3-fe7f748c57f5"
      },
      "execution_count": 18,
      "outputs": [
        {
          "output_type": "stream",
          "name": "stdout",
          "text": [
            "Model: \"embedding\"\n",
            "_________________________________________________________________\n",
            " Layer (type)                Output Shape              Param #   \n",
            "=================================================================\n",
            " input_img (InputLayer)      [(None, 105, 105, 3)]     0         \n",
            "                                                                 \n",
            " conv2d (Conv2D)             (None, 96, 96, 64)        19264     \n",
            "                                                                 \n",
            " max_pooling2d (MaxPooling2D  (None, 48, 48, 64)       0         \n",
            " )                                                               \n",
            "                                                                 \n",
            " conv2d_1 (Conv2D)           (None, 42, 42, 128)       401536    \n",
            "                                                                 \n",
            " max_pooling2d_1 (MaxPooling  (None, 21, 21, 128)      0         \n",
            " 2D)                                                             \n",
            "                                                                 \n",
            " conv2d_2 (Conv2D)           (None, 18, 18, 128)       262272    \n",
            "                                                                 \n",
            " max_pooling2d_2 (MaxPooling  (None, 9, 9, 128)        0         \n",
            " 2D)                                                             \n",
            "                                                                 \n",
            " conv2d_3 (Conv2D)           (None, 6, 6, 256)         524544    \n",
            "                                                                 \n",
            " flatten (Flatten)           (None, 9216)              0         \n",
            "                                                                 \n",
            " dense (Dense)               (None, 4096)              37752832  \n",
            "                                                                 \n",
            "=================================================================\n",
            "Total params: 38,960,448\n",
            "Trainable params: 38,960,448\n",
            "Non-trainable params: 0\n",
            "_________________________________________________________________\n"
          ]
        }
      ]
    },
    {
      "cell_type": "code",
      "source": [
        "def make_embedding():\n",
        "  #Input image 105x105\n",
        "  inp = Input(shape=(105,105,3), name='input_image')\n",
        "\n",
        "  #Applying Convulution layer\n",
        "  c1 = Conv2D(64, (10,10), activation='relu')(inp)\n",
        "\n",
        "  # Maxpooling the c1 layer\n",
        "  m1 = MaxPooling2D(64, (2,2), padding='same')(c1)\n",
        "\n",
        "  #Second Block for neural network\n",
        "  c2 = Conv2D(128, (7,7), activation='relu')(m1)\n",
        "  m2 = MaxPooling2D(64, (2,2), padding='same')(c2)\n",
        "\n",
        "  #Third Block for neural network\n",
        "  c3 = Conv2D(128, (4,4), activation='relu')(m2)\n",
        "  m3 = MaxPooling2D(64, (2,2), padding='same')(c3)\n",
        "\n",
        "  #Final convolution then flatten and densing the layer i.e embedding layer\n",
        "  c4 = Conv2D(256, (4,4), activation='relu')(m3)\n",
        "  f1 = Flatten()(c4)\n",
        "  d1 = Dense(4096, activation='sigmoid')(f1)\n",
        "  \n",
        "\n",
        "\n",
        "  return Model(inputs=[inp], outputs=[d1], name='embedding')"
      ],
      "metadata": {
        "id": "RBZsxxFyXhtR"
      },
      "execution_count": 19,
      "outputs": []
    },
    {
      "cell_type": "code",
      "source": [
        "embedding = make_embedding()"
      ],
      "metadata": {
        "id": "1baLOlhckylv"
      },
      "execution_count": 27,
      "outputs": []
    },
    {
      "cell_type": "code",
      "source": [
        "embedding.summary()"
      ],
      "metadata": {
        "colab": {
          "base_uri": "https://localhost:8080/"
        },
        "id": "q0eI_z1opJTV",
        "outputId": "1404f190-53f6-4106-aa3a-e903f8964854"
      },
      "execution_count": 28,
      "outputs": [
        {
          "output_type": "stream",
          "name": "stdout",
          "text": [
            "Model: \"embedding\"\n",
            "_________________________________________________________________\n",
            " Layer (type)                Output Shape              Param #   \n",
            "=================================================================\n",
            " input_image (InputLayer)    [(None, 105, 105, 3)]     0         \n",
            "                                                                 \n",
            " conv2d_8 (Conv2D)           (None, 96, 96, 64)        19264     \n",
            "                                                                 \n",
            " max_pooling2d_6 (MaxPooling  (None, 48, 48, 64)       0         \n",
            " 2D)                                                             \n",
            "                                                                 \n",
            " conv2d_9 (Conv2D)           (None, 42, 42, 128)       401536    \n",
            "                                                                 \n",
            " max_pooling2d_7 (MaxPooling  (None, 21, 21, 128)      0         \n",
            " 2D)                                                             \n",
            "                                                                 \n",
            " conv2d_10 (Conv2D)          (None, 18, 18, 128)       262272    \n",
            "                                                                 \n",
            " max_pooling2d_8 (MaxPooling  (None, 9, 9, 128)        0         \n",
            " 2D)                                                             \n",
            "                                                                 \n",
            " conv2d_11 (Conv2D)          (None, 6, 6, 256)         524544    \n",
            "                                                                 \n",
            " flatten_2 (Flatten)         (None, 9216)              0         \n",
            "                                                                 \n",
            " dense_2 (Dense)             (None, 4096)              37752832  \n",
            "                                                                 \n",
            "=================================================================\n",
            "Total params: 38,960,448\n",
            "Trainable params: 38,960,448\n",
            "Non-trainable params: 0\n",
            "_________________________________________________________________\n"
          ]
        }
      ]
    },
    {
      "cell_type": "markdown",
      "source": [
        "#Building DISTANCE LAYER\n",
        "This is the defining characteristic in Siamese Neural Network used for Keras layering"
      ],
      "metadata": {
        "id": "SbQVD4ySpdJX"
      }
    },
    {
      "cell_type": "code",
      "source": [
        "class L1Dist(Layer):\n",
        "\n",
        "  #Inheritance\n",
        "  def __init__(self,**kwargs):\n",
        "    super().__init__()\n",
        "\n",
        "    #Turning the feature vector(d1) into one single output\n",
        "    def call(self, input_embedding, validation_embedding):\n",
        "      return tf.math.abs(input_embedding - validation_embedding)"
      ],
      "metadata": {
        "id": "FPrUURKypLkI"
      },
      "execution_count": 23,
      "outputs": []
    },
    {
      "cell_type": "code",
      "source": [
        "siamese_layer = L1Dist()"
      ],
      "metadata": {
        "id": "mDEtV1RzrOR_"
      },
      "execution_count": 33,
      "outputs": []
    },
    {
      "cell_type": "markdown",
      "source": [
        "# SIAMESE NEURAL NETWORK"
      ],
      "metadata": {
        "id": "Icao78XSryEU"
      }
    },
    {
      "cell_type": "code",
      "source": [
        "input_image = Input(name='input_img', shape=(105,105,3))\n",
        "validation_image = Input(name='validation_img', shape=(105,105,3))"
      ],
      "metadata": {
        "id": "zWI-fyzptvG2"
      },
      "execution_count": 31,
      "outputs": []
    },
    {
      "cell_type": "code",
      "source": [
        "inp_embedding = embedding(input_image)\n",
        "val_embedding = embedding(validation_image)"
      ],
      "metadata": {
        "id": "D6p-ntjDtvEQ"
      },
      "execution_count": 32,
      "outputs": []
    },
    {
      "cell_type": "code",
      "source": [
        "distances = siamese_layer(inp_embedding, val_embedding)"
      ],
      "metadata": {
        "id": "eq0hIOs4tu9Q"
      },
      "execution_count": 35,
      "outputs": []
    },
    {
      "cell_type": "code",
      "source": [
        "classifier = Dense(1, activation='sigmoid')(distances)"
      ],
      "metadata": {
        "id": "mTCJrTG9u3a3"
      },
      "execution_count": 36,
      "outputs": []
    },
    {
      "cell_type": "code",
      "source": [
        "classifier"
      ],
      "metadata": {
        "colab": {
          "base_uri": "https://localhost:8080/"
        },
        "id": "ag8AlR-Cu66B",
        "outputId": "1fdfe1ba-a0fc-435f-94e3-74df6a81a039"
      },
      "execution_count": 37,
      "outputs": [
        {
          "output_type": "execute_result",
          "data": {
            "text/plain": [
              "<KerasTensor: shape=(None, 1) dtype=float32 (created by layer 'dense_3')>"
            ]
          },
          "metadata": {},
          "execution_count": 37
        }
      ]
    },
    {
      "cell_type": "code",
      "source": [
        "siamese_network = Model(inputs=[input_image, validation_image], outputs=classifier, name='SiameseNetwork')"
      ],
      "metadata": {
        "id": "03LRAZ5qvOjS"
      },
      "execution_count": 39,
      "outputs": []
    },
    {
      "cell_type": "code",
      "source": [
        "siamese_network.summary()"
      ],
      "metadata": {
        "colab": {
          "base_uri": "https://localhost:8080/"
        },
        "id": "f-eU4JLqvRi-",
        "outputId": "f1e28695-65b4-4cfe-86b8-70bf67237429"
      },
      "execution_count": 41,
      "outputs": [
        {
          "output_type": "stream",
          "name": "stdout",
          "text": [
            "Model: \"SiameseNetwork\"\n",
            "__________________________________________________________________________________________________\n",
            " Layer (type)                   Output Shape         Param #     Connected to                     \n",
            "==================================================================================================\n",
            " input_img (InputLayer)         [(None, 105, 105, 3  0           []                               \n",
            "                                )]                                                                \n",
            "                                                                                                  \n",
            " validation_img (InputLayer)    [(None, 105, 105, 3  0           []                               \n",
            "                                )]                                                                \n",
            "                                                                                                  \n",
            " embedding (Functional)         (None, 4096)         38960448    ['input_img[0][0]',              \n",
            "                                                                  'validation_img[0][0]']         \n",
            "                                                                                                  \n",
            " l1_dist_2 (L1Dist)             (None, 4096)         0           ['embedding[0][0]',              \n",
            "                                                                  'embedding[1][0]']              \n",
            "                                                                                                  \n",
            " dense_3 (Dense)                (None, 1)            4097        ['l1_dist_2[1][0]']              \n",
            "                                                                                                  \n",
            "==================================================================================================\n",
            "Total params: 38,964,545\n",
            "Trainable params: 38,964,545\n",
            "Non-trainable params: 0\n",
            "__________________________________________________________________________________________________\n"
          ]
        }
      ]
    },
    {
      "cell_type": "code",
      "source": [
        "def make_siamese_model():\n",
        "\n",
        "  #Handling the input images\n",
        "  input_image = Input(name='input_img', shape=(105,105,3))\n",
        "  validation_image = Input(name='validation_img', shape=(105,105,3))\n",
        "\n",
        "  #Siamese Distance components\n",
        "  siamese_layer = L1Dist()\n",
        "  siamese_layer._name = 'Distance'\n",
        "  distances = siamese_layer(embedding(input_image), embedding(validation_image))\n",
        "\n",
        "  #Classification \n",
        "  classifier = Dense(1, activation='sigmoid')(distances)\n",
        "\n",
        "  return Model(inputs=[input_image, validation_image], outputs=classifier, name='SiameseNetwork')\n"
      ],
      "metadata": {
        "id": "O7DZ1-2pr6r6"
      },
      "execution_count": 38,
      "outputs": []
    },
    {
      "cell_type": "code",
      "source": [
        "siamese_model = make_siamese_model()"
      ],
      "metadata": {
        "id": "dmq0kNimvh0n"
      },
      "execution_count": 42,
      "outputs": []
    },
    {
      "cell_type": "code",
      "source": [
        "siamese_model.summary()"
      ],
      "metadata": {
        "colab": {
          "base_uri": "https://localhost:8080/"
        },
        "id": "8j9e5JsLvlIm",
        "outputId": "e879e962-072b-4ae1-838b-4b49bdbe8edc"
      },
      "execution_count": 43,
      "outputs": [
        {
          "output_type": "stream",
          "name": "stdout",
          "text": [
            "Model: \"SiameseNetwork\"\n",
            "__________________________________________________________________________________________________\n",
            " Layer (type)                   Output Shape         Param #     Connected to                     \n",
            "==================================================================================================\n",
            " input_img (InputLayer)         [(None, 105, 105, 3  0           []                               \n",
            "                                )]                                                                \n",
            "                                                                                                  \n",
            " validation_img (InputLayer)    [(None, 105, 105, 3  0           []                               \n",
            "                                )]                                                                \n",
            "                                                                                                  \n",
            " embedding (Functional)         (None, 4096)         38960448    ['input_img[0][0]',              \n",
            "                                                                  'validation_img[0][0]']         \n",
            "                                                                                                  \n",
            " Distance (L1Dist)              (None, 4096)         0           ['embedding[2][0]',              \n",
            "                                                                  'embedding[3][0]']              \n",
            "                                                                                                  \n",
            " dense_4 (Dense)                (None, 1)            4097        ['Distance[0][0]']               \n",
            "                                                                                                  \n",
            "==================================================================================================\n",
            "Total params: 38,964,545\n",
            "Trainable params: 38,964,545\n",
            "Non-trainable params: 0\n",
            "__________________________________________________________________________________________________\n"
          ]
        }
      ]
    }
  ]
}