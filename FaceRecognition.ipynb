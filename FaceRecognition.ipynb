{
  "nbformat": 4,
  "nbformat_minor": 0,
  "metadata": {
    "colab": {
      "provenance": [],
      "mount_file_id": "1qCEEgjKHLYPqiEZz2k_DnflsYpczOVW1",
      "authorship_tag": "ABX9TyPsaQv6/88NqrA/nc4s91gn",
      "include_colab_link": true
    },
    "kernelspec": {
      "name": "python3",
      "display_name": "Python 3"
    },
    "language_info": {
      "name": "python"
    },
    "gpuClass": "standard",
    "accelerator": "GPU"
  },
  "cells": [
    {
      "cell_type": "markdown",
      "metadata": {
        "id": "view-in-github",
        "colab_type": "text"
      },
      "source": [
        "<a href=\"https://colab.research.google.com/github/parjanya-rajput/-FR-202201115-Ai-Ascension-/blob/main/FaceRecognition.ipynb\" target=\"_parent\"><img src=\"https://colab.research.google.com/assets/colab-badge.svg\" alt=\"Open In Colab\"/></a>"
      ]
    },
    {
      "cell_type": "markdown",
      "source": [
        "WELCOM TO THE FACE RECOGNITION SYSTEM BUILT USING SIAMESE NETWORK"
      ],
      "metadata": {
        "id": "Z7pheR9CDO7b"
      }
    },
    {
      "cell_type": "code",
      "source": [
        "!pip install opencv-python matplotlib"
      ],
      "metadata": {
        "colab": {
          "base_uri": "https://localhost:8080/"
        },
        "id": "tAW6EUe7Eh4M",
        "outputId": "1ae7c177-3e89-4f11-ecf5-507ecd00705c"
      },
      "execution_count": null,
      "outputs": [
        {
          "output_type": "stream",
          "name": "stdout",
          "text": [
            "Looking in indexes: https://pypi.org/simple, https://us-python.pkg.dev/colab-wheels/public/simple/\n",
            "Requirement already satisfied: opencv-python in /usr/local/lib/python3.8/dist-packages (4.6.0.66)\n",
            "Requirement already satisfied: matplotlib in /usr/local/lib/python3.8/dist-packages (3.5.3)\n",
            "Requirement already satisfied: numpy>=1.17.3 in /usr/local/lib/python3.8/dist-packages (from opencv-python) (1.22.4)\n",
            "Requirement already satisfied: python-dateutil>=2.7 in /usr/local/lib/python3.8/dist-packages (from matplotlib) (2.8.2)\n",
            "Requirement already satisfied: packaging>=20.0 in /usr/local/lib/python3.8/dist-packages (from matplotlib) (23.0)\n",
            "Requirement already satisfied: kiwisolver>=1.0.1 in /usr/local/lib/python3.8/dist-packages (from matplotlib) (1.4.4)\n",
            "Requirement already satisfied: fonttools>=4.22.0 in /usr/local/lib/python3.8/dist-packages (from matplotlib) (4.38.0)\n",
            "Requirement already satisfied: pillow>=6.2.0 in /usr/local/lib/python3.8/dist-packages (from matplotlib) (8.4.0)\n",
            "Requirement already satisfied: cycler>=0.10 in /usr/local/lib/python3.8/dist-packages (from matplotlib) (0.11.0)\n",
            "Requirement already satisfied: pyparsing>=2.2.1 in /usr/local/lib/python3.8/dist-packages (from matplotlib) (3.0.9)\n",
            "Requirement already satisfied: six>=1.5 in /usr/local/lib/python3.8/dist-packages (from python-dateutil>=2.7->matplotlib) (1.15.0)\n"
          ]
        }
      ]
    },
    {
      "cell_type": "code",
      "source": [
        "#Importing dependencies\n",
        "from IPython.display import display, Javascript, Image\n",
        "from google.colab.output import eval_js\n",
        "from base64 import b64decode, b64encode\n",
        "import uuid\n",
        "import cv2\n",
        "import os\n",
        "import random\n",
        "import numpy as np\n",
        "from matplotlib import pyplot as plt\n",
        "import PIL\n",
        "import io\n",
        "import html\n",
        "import time\n",
        "#Tensorflow dependencies\n",
        "from tensorflow.keras import Model\n",
        "from tensorflow.keras.layers import Layer, Conv2D, Dense, MaxPooling2D, Input, Flatten\n",
        "import tensorflow as tf"
      ],
      "metadata": {
        "id": "R_QWm6q4FtF-"
      },
      "execution_count": 2,
      "outputs": []
    },
    {
      "cell_type": "code",
      "source": [
        "#Setting Paths\n",
        "POS_PATH = os.path.join('data', 'positive')\n",
        "NEG_PATH = os.path.join('data', 'negative')\n",
        "ANC_PATH = os.path.join('data', 'anchor')"
      ],
      "metadata": {
        "id": "dOOjUoexaxLc"
      },
      "execution_count": 47,
      "outputs": []
    },
    {
      "cell_type": "code",
      "source": [
        "#Make Folders\n",
        "os.makedirs(POS_PATH)\n",
        "os.makedirs(NEG_PATH)\n",
        "os.makedirs(ANC_PATH)"
      ],
      "metadata": {
        "id": "THqhUTQ_bXyn"
      },
      "execution_count": 48,
      "outputs": []
    },
    {
      "cell_type": "markdown",
      "source": [
        "Labbelled faces in **WILD DATASET**\n",
        "URL: http://vis-www.cs.umass.edu/lfw/"
      ],
      "metadata": {
        "id": "Y2g4oMdvea7G"
      }
    },
    {
      "cell_type": "code",
      "source": [
        "#Uncompressing the Tar GZ file lfw\n",
        "!tar -xf lfw.tgz"
      ],
      "metadata": {
        "id": "I040jq4_fDUy"
      },
      "execution_count": 49,
      "outputs": []
    },
    {
      "cell_type": "code",
      "source": [
        "#Moving all the wild face data to negative for training the model\n",
        "for directory in os.listdir('lfw'):\n",
        "  for f in os.listdir(os.path.join('lfw', directory)):\n",
        "    EX_PATH = os.path.join('lfw', directory, f)\n",
        "    NEW_PATH = os.path.join(NEG_PATH, f)\n",
        "    os.replace(EX_PATH, NEW_PATH)"
      ],
      "metadata": {
        "id": "SDPhcEpaj616"
      },
      "execution_count": 50,
      "outputs": []
    },
    {
      "cell_type": "code",
      "source": [
        "#Code for removing all the lfw set files and saving space\n",
        "for dir in os.listdir('lfw'):\n",
        "  path = os.path.join('lfw', dir)\n",
        "  os.rmdir(path)"
      ],
      "metadata": {
        "id": "h4czh75ejWH_"
      },
      "execution_count": 51,
      "outputs": []
    },
    {
      "cell_type": "markdown",
      "source": [
        "Helper Functions for capturing Image in Collab"
      ],
      "metadata": {
        "id": "MfBHjVaujwre"
      }
    },
    {
      "cell_type": "code",
      "source": [
        "# function to convert the JavaScript object into an OpenCV image\n",
        "def js_to_image(js_reply):\n",
        "  \"\"\"\n",
        "  Params:\n",
        "          js_reply: JavaScript object containing image from webcam\n",
        "  Returns:\n",
        "          img: OpenCV BGR image\n",
        "  \"\"\"\n",
        "  # decode base64 image\n",
        "  image_bytes = b64decode(js_reply.split(',')[1])\n",
        "  # convert bytes to numpy array\n",
        "  jpg_as_np = np.frombuffer(image_bytes, dtype=np.uint8)\n",
        "  # decode numpy array into OpenCV BGR image\n",
        "  img = cv2.imdecode(jpg_as_np, flags=1)\n",
        "\n",
        "  return img\n",
        "\n",
        "# function to convert OpenCV Rectangle bounding box image into base64 byte string to be overlayed on video stream\n",
        "def bbox_to_bytes(bbox_array):\n",
        "  \"\"\"\n",
        "  Params:\n",
        "          bbox_array: Numpy array (pixels) containing rectangle to overlay on video stream.\n",
        "  Returns:\n",
        "        bytes: Base64 image byte string\n",
        "  \"\"\"\n",
        "  # convert array into PIL image\n",
        "  bbox_PIL = PIL.Image.fromarray(bbox_array, 'RGBA')\n",
        "  iobuf = io.BytesIO()\n",
        "  # format bbox into png for return\n",
        "  bbox_PIL.save(iobuf, format='png')\n",
        "  # format return string\n",
        "  bbox_bytes = 'data:image/png;base64,{}'.format((str(b64encode(iobuf.getvalue()), 'utf-8')))\n",
        "\n",
        "  return bbox_bytes"
      ],
      "metadata": {
        "id": "mcOtn3TRjmwT"
      },
      "execution_count": 52,
      "outputs": []
    },
    {
      "cell_type": "markdown",
      "source": [
        "Haar Cascade Classifier"
      ],
      "metadata": {
        "id": "KvmVE_Frj7NL"
      }
    },
    {
      "cell_type": "code",
      "source": [
        "# initialize the Haar Cascade face detection model\n",
        "face_cascade = cv2.CascadeClassifier(cv2.samples.findFile(cv2.data.haarcascades + 'haarcascade_frontalface_default.xml'))"
      ],
      "metadata": {
        "id": "zYNtC00TyCg1"
      },
      "execution_count": 53,
      "outputs": []
    },
    {
      "cell_type": "code",
      "source": [
        "def take_photo(filename='{}.jpg'.format(uuid.uuid1()), quality=0.8):\n",
        "  js = Javascript('''\n",
        "    async function takePhoto(quality) {\n",
        "      const div = document.createElement('div');\n",
        "      const capture = document.createElement('button');\n",
        "      capture.textContent = 'Capture';\n",
        "      div.appendChild(capture);\n",
        "\n",
        "      const video = document.createElement('video');\n",
        "      video.style.display = 'block';\n",
        "      const stream = await navigator.mediaDevices.getUserMedia({video: true});\n",
        "\n",
        "      document.body.appendChild(div);\n",
        "      div.appendChild(video);\n",
        "      video.srcObject = stream;\n",
        "      await video.play();\n",
        "\n",
        "      // Resize the output to fit the video element.\n",
        "      google.colab.output.setIframeHeight(document.documentElement.scrollHeight, true);\n",
        "\n",
        "      // Wait for Capture to be clicked.\n",
        "      await new Promise((resolve) => capture.onclick = resolve)\n",
        "        \n",
        "      const canvas = document.createElement('canvas');\n",
        "      canvas.width = video.videoWidth;\n",
        "      canvas.height = video.videoHeight;\n",
        "      canvas.getContext('2d').drawImage(video, 0, 0);\n",
        "      stream.getVideoTracks()[0].stop();\n",
        "      div.remove();\n",
        "      return canvas.toDataURL('image/jpeg', quality);\n",
        "      \n",
        "    }\n",
        "    ''')\n",
        "  display(js)\n",
        "\n",
        "  # get photo data\n",
        "  data = eval_js('takePhoto({})'.format(quality))\n",
        "  # get OpenCV format image\n",
        "  img = js_to_image(data) \n",
        "  # grayscale img\n",
        "  gray = cv2.cvtColor(img, cv2.COLOR_RGB2GRAY)\n",
        "  print(gray.shape)\n",
        "  # get face bounding box coordinates using Haar Cascade\n",
        "  faces = face_cascade.detectMultiScale(gray)\n",
        "  # draw face bounding box on image\n",
        "  for (x,y,w,h) in faces:\n",
        "      # img = cv2.rectangle(img,(x,y),(x+w,y+h),(255,0,0),2)\n",
        "      img = img[y:y+h, x:x+w]\n",
        "      print(x,y,w,h)\n",
        "  # save image\n",
        "  cv2.imwrite(filename, img)\n",
        "\n",
        "  return filename"
      ],
      "metadata": {
        "id": "FOx0OWCzyG9d"
      },
      "execution_count": 54,
      "outputs": []
    },
    {
      "cell_type": "code",
      "source": [
        "try:\n",
        "  #Just change ANC_PATH to  POS_PATH for stroing positive image\n",
        "  filename = take_photo(os.path.join(ANC_PATH,'{}.jpg'.format(uuid.uuid1())))\n",
        "  print('Saved to {}'.format(filename))\n",
        "  \n",
        "  # Show the image which was just taken.\n",
        "  display(Image(filename))\n",
        "except Exception as err:\n",
        "  # Errors will be thrown if the user does not have a webcam or if they do not\n",
        "  # grant the page permission to access it.\n",
        "  print(str(err))"
      ],
      "metadata": {
        "id": "wJxaH-mOyG1Z",
        "colab": {
          "base_uri": "https://localhost:8080/",
          "height": 248
        },
        "outputId": "39914ca8-e248-429f-ec8f-7748a823e180"
      },
      "execution_count": 55,
      "outputs": [
        {
          "output_type": "display_data",
          "data": {
            "text/plain": [
              "<IPython.core.display.Javascript object>"
            ],
            "application/javascript": [
              "\n",
              "    async function takePhoto(quality) {\n",
              "      const div = document.createElement('div');\n",
              "      const capture = document.createElement('button');\n",
              "      capture.textContent = 'Capture';\n",
              "      div.appendChild(capture);\n",
              "\n",
              "      const video = document.createElement('video');\n",
              "      video.style.display = 'block';\n",
              "      const stream = await navigator.mediaDevices.getUserMedia({video: true});\n",
              "\n",
              "      document.body.appendChild(div);\n",
              "      div.appendChild(video);\n",
              "      video.srcObject = stream;\n",
              "      await video.play();\n",
              "\n",
              "      // Resize the output to fit the video element.\n",
              "      google.colab.output.setIframeHeight(document.documentElement.scrollHeight, true);\n",
              "\n",
              "      // Wait for Capture to be clicked.\n",
              "      await new Promise((resolve) => capture.onclick = resolve)\n",
              "        \n",
              "      const canvas = document.createElement('canvas');\n",
              "      canvas.width = video.videoWidth;\n",
              "      canvas.height = video.videoHeight;\n",
              "      canvas.getContext('2d').drawImage(video, 0, 0);\n",
              "      stream.getVideoTracks()[0].stop();\n",
              "      div.remove();\n",
              "      return canvas.toDataURL('image/jpeg', quality);\n",
              "      \n",
              "    }\n",
              "    "
            ]
          },
          "metadata": {}
        },
        {
          "output_type": "stream",
          "name": "stdout",
          "text": [
            "(480, 640)\n",
            "253 194 177 177\n",
            "Saved to data/anchor/0c11a322-beb0-11ed-809b-0242ac1c000c.jpg\n"
          ]
        },
        {
          "output_type": "display_data",
          "data": {
            "image/jpeg": "[encoded data removed]",
            "text/plain": [
              "<IPython.core.display.Image object>"
            ]
          },
          "metadata": {}
        }
      ]
    },
    {
      "cell_type": "code",
      "source": [
        "# Change jpg to png for differnet type of image \n",
        "anchor = tf.data.Dataset.list_files(ANC_PATH+'/*.jpg').take(300)\n",
        "positive = tf.data.Dataset.list_files(POS_PATH+'/*.jpg').take(300)\n",
        "negative = tf.data.Dataset.list_files(NEG_PATH+'/*.jpg').take(300)"
      ],
      "metadata": {
        "id": "hhsjKbnxYhry"
      },
      "execution_count": 56,
      "outputs": []
    },
    {
      "cell_type": "code",
      "source": [
        "dir_test = anchor.as_numpy_iterator()"
      ],
      "metadata": {
        "id": "mO-hCknsZS7D"
      },
      "execution_count": 57,
      "outputs": []
    },
    {
      "cell_type": "code",
      "source": [
        "dir_test.next()"
      ],
      "metadata": {
        "colab": {
          "base_uri": "https://localhost:8080/"
        },
        "id": "AdJdkHodZZaJ",
        "outputId": "ee35a3bd-f452-4aed-adb5-e3b335b1b10a"
      },
      "execution_count": 58,
      "outputs": [
        {
          "output_type": "execute_result",
          "data": {
            "text/plain": [
              "b'data/anchor/d03ac726-bde6-11ed-ad76-46baee1e3e63.jpg'"
            ]
          },
          "metadata": {},
          "execution_count": 58
        }
      ]
    },
    {
      "cell_type": "markdown",
      "source": [
        "Preprocessing Function"
      ],
      "metadata": {
        "id": "lO-MqqCRaxDs"
      }
    },
    {
      "cell_type": "code",
      "source": [
        "def preprocess(file_path):\n",
        "\n",
        "  #Reading the image from the filepath\n",
        "  byte_img = tf.io.read_file(file_path)\n",
        "\n",
        "  #Loading the image from filepath\n",
        "  img = tf.io.decode_jpeg(byte_img)\n",
        "\n",
        "  #Resizing the image\n",
        "  img = tf.image.resize(img, (105,105))\n",
        "\n",
        "  #Scaling the image. to fit in 0 to 1\n",
        "  img = img / 255.0\n",
        "\n",
        "  return img"
      ],
      "metadata": {
        "id": "3K1MrnQqawu3"
      },
      "execution_count": 59,
      "outputs": []
    },
    {
      "cell_type": "code",
      "source": [
        "# img = preprocess('data/anchor/e6bfa924-bdd9-11ed-aec5-0242ac1c000c.jpg')"
      ],
      "metadata": {
        "id": "5OVULcdVbXh5"
      },
      "execution_count": 62,
      "outputs": []
    },
    {
      "cell_type": "code",
      "source": [
        "# img.numpy().max()"
      ],
      "metadata": {
        "id": "rMQlDjs8bqbj"
      },
      "execution_count": 63,
      "outputs": []
    },
    {
      "cell_type": "code",
      "source": [
        "# plt.imshow(img)"
      ],
      "metadata": {
        "id": "jn5iJGAVbe9q"
      },
      "execution_count": 64,
      "outputs": []
    },
    {
      "cell_type": "markdown",
      "source": [
        "Now I am trying to create a labelled dataset"
      ],
      "metadata": {
        "id": "7_s8JiP3dEje"
      }
    },
    {
      "cell_type": "code",
      "source": [
        "#What it will be resulting\n",
        "# (anchor,positive) => 1,1,1,1,1\n",
        "# (anchor,negative) => 0,0,0,0,0"
      ],
      "metadata": {
        "id": "zlL7oSChdJfE"
      },
      "execution_count": 65,
      "outputs": []
    },
    {
      "cell_type": "code",
      "source": [
        "positives = tf.data.Dataset.zip((anchor, positive, tf.data.Dataset.from_tensor_slices(tf.ones(len(anchor)))))\n",
        "negatives = tf.data.Dataset.zip((anchor, negative, tf.data.Dataset.from_tensor_slices(tf.zeros(len(anchor)))))\n",
        "data = positives.concatenate(negatives)"
      ],
      "metadata": {
        "id": "4szEfjskdWgp"
      },
      "execution_count": 66,
      "outputs": []
    },
    {
      "cell_type": "code",
      "source": [
        "samples = data.as_numpy_iterator()"
      ],
      "metadata": {
        "id": "v4sH9-fVeDmz"
      },
      "execution_count": 67,
      "outputs": []
    },
    {
      "cell_type": "code",
      "source": [
        "exp = samples.next()"
      ],
      "metadata": {
        "id": "2HmPAA_ye_-V"
      },
      "execution_count": 68,
      "outputs": []
    },
    {
      "cell_type": "code",
      "source": [
        "exp"
      ],
      "metadata": {
        "colab": {
          "base_uri": "https://localhost:8080/"
        },
        "id": "JIsRIm6lgLPg",
        "outputId": "8c609299-7f80-4268-99e1-68e4eb5f9e45"
      },
      "execution_count": 69,
      "outputs": [
        {
          "output_type": "execute_result",
          "data": {
            "text/plain": [
              "(b'data/anchor/d6722670-bde6-11ed-ad76-46baee1e3e63.jpg',\n",
              " b'data/positive/b665e3a8-bde6-11ed-ad76-46baee1e3e63.jpg',\n",
              " 1.0)"
            ]
          },
          "metadata": {},
          "execution_count": 69
        }
      ]
    },
    {
      "cell_type": "markdown",
      "source": [
        "Training and Testing the Partition"
      ],
      "metadata": {
        "id": "Sn7ePy4pfcyW"
      }
    },
    {
      "cell_type": "code",
      "source": [
        "def preprocess_twin(input_img, validation_img, label):\n",
        "  return(preprocess(input_img), preprocess(validation_img), label)"
      ],
      "metadata": {
        "id": "aJ4SjyWAfgEA"
      },
      "execution_count": 70,
      "outputs": []
    },
    {
      "cell_type": "code",
      "source": [
        "res = preprocess_twin(*exp)"
      ],
      "metadata": {
        "id": "tVDMjDGqf-IL"
      },
      "execution_count": 71,
      "outputs": []
    },
    {
      "cell_type": "code",
      "source": [
        "res[2]"
      ],
      "metadata": {
        "id": "smKFS6vUhH83",
        "colab": {
          "base_uri": "https://localhost:8080/"
        },
        "outputId": "bda9628c-0f5a-4dd4-d3c6-dd68a0058e58"
      },
      "execution_count": 72,
      "outputs": [
        {
          "output_type": "execute_result",
          "data": {
            "text/plain": [
              "1.0"
            ]
          },
          "metadata": {},
          "execution_count": 72
        }
      ]
    },
    {
      "cell_type": "markdown",
      "source": [
        "Building DATALOADER PIPELINE"
      ],
      "metadata": {
        "id": "Nt_IA1cWhqu4"
      }
    },
    {
      "cell_type": "code",
      "source": [
        "data = data.map(preprocess_twin)\n",
        "data = data.cache()\n",
        "data.shuffle(buffer_size=1024)"
      ],
      "metadata": {
        "colab": {
          "base_uri": "https://localhost:8080/"
        },
        "id": "5RRv-Ot2ht-8",
        "outputId": "cf66c72b-a20d-4a62-f999-f497405c43df"
      },
      "execution_count": 73,
      "outputs": [
        {
          "output_type": "execute_result",
          "data": {
            "text/plain": [
              "<ShuffleDataset element_spec=(TensorSpec(shape=(105, 105, None), dtype=tf.float32, name=None), TensorSpec(shape=(105, 105, None), dtype=tf.float32, name=None), TensorSpec(shape=(), dtype=tf.float32, name=None))>"
            ]
          },
          "metadata": {},
          "execution_count": 73
        }
      ]
    },
    {
      "cell_type": "code",
      "source": [
        "samples = data.as_numpy_iterator()"
      ],
      "metadata": {
        "id": "o48DkbAsihpU"
      },
      "execution_count": 74,
      "outputs": []
    },
    {
      "cell_type": "code",
      "source": [
        "samp = samples.next()"
      ],
      "metadata": {
        "id": "BIEExSe6ioXw"
      },
      "execution_count": 75,
      "outputs": []
    },
    {
      "cell_type": "code",
      "source": [
        "#Train Partition\n",
        "train_data = data.take(round(len(data)*.7))\n",
        "train_data = train_data.batch(16)\n",
        "train_data = train_data.prefetch(8)"
      ],
      "metadata": {
        "id": "YHCjlYyvitL0"
      },
      "execution_count": 76,
      "outputs": []
    },
    {
      "cell_type": "code",
      "source": [
        "train_data"
      ],
      "metadata": {
        "colab": {
          "base_uri": "https://localhost:8080/"
        },
        "id": "4hNZwyUHkHR5",
        "outputId": "f014afea-cedc-4002-8ba6-b42d6bdb0e4c"
      },
      "execution_count": 77,
      "outputs": [
        {
          "output_type": "execute_result",
          "data": {
            "text/plain": [
              "<PrefetchDataset element_spec=(TensorSpec(shape=(None, 105, 105, None), dtype=tf.float32, name=None), TensorSpec(shape=(None, 105, 105, None), dtype=tf.float32, name=None), TensorSpec(shape=(None,), dtype=tf.float32, name=None))>"
            ]
          },
          "metadata": {},
          "execution_count": 77
        }
      ]
    },
    {
      "cell_type": "code",
      "source": [
        "#Testing Data\n",
        "test_data = data.skip(round(len(data)*.7))\n",
        "test_data = test_data.take(round(len(data)*.3))\n",
        "test_data = test_data.batch(16)\n",
        "test_data = test_data.prefetch(8)"
      ],
      "metadata": {
        "id": "amyBrze0kYNv"
      },
      "execution_count": 78,
      "outputs": []
    },
    {
      "cell_type": "markdown",
      "source": [
        "**EMBEDDING LAYER**"
      ],
      "metadata": {
        "id": "sXWkPsW4Xijb"
      }
    },
    {
      "cell_type": "code",
      "source": [
        "inp = Input(shape=(105,105,3), name = 'input_img')"
      ],
      "metadata": {
        "id": "WvtlA39QYyT-"
      },
      "execution_count": 80,
      "outputs": []
    },
    {
      "cell_type": "code",
      "source": [
        "c1 = Conv2D(64, (10,10), activation='relu')(inp)"
      ],
      "metadata": {
        "id": "4rvN7pHpY4EQ"
      },
      "execution_count": 81,
      "outputs": []
    },
    {
      "cell_type": "code",
      "source": [
        "c1"
      ],
      "metadata": {
        "colab": {
          "base_uri": "https://localhost:8080/"
        },
        "id": "nui-p1CJZTGv",
        "outputId": "66b6690e-3ddd-4e1e-c493-011226490438"
      },
      "execution_count": 82,
      "outputs": [
        {
          "output_type": "execute_result",
          "data": {
            "text/plain": [
              "<KerasTensor: shape=(None, 96, 96, 64) dtype=float32 (created by layer 'conv2d_8')>"
            ]
          },
          "metadata": {},
          "execution_count": 82
        }
      ]
    },
    {
      "cell_type": "code",
      "source": [
        "m1 = MaxPooling2D(64, (2,2), padding='same')(c1)"
      ],
      "metadata": {
        "id": "cAHl0ORhZ4CE"
      },
      "execution_count": 83,
      "outputs": []
    },
    {
      "cell_type": "code",
      "source": [
        "m1"
      ],
      "metadata": {
        "colab": {
          "base_uri": "https://localhost:8080/"
        },
        "id": "lo8cWD4uZ3sM",
        "outputId": "b9a3e6b7-35c1-4c48-d3a0-acec78bd4a92"
      },
      "execution_count": 84,
      "outputs": [
        {
          "output_type": "execute_result",
          "data": {
            "text/plain": [
              "<KerasTensor: shape=(None, 48, 48, 64) dtype=float32 (created by layer 'max_pooling2d_6')>"
            ]
          },
          "metadata": {},
          "execution_count": 84
        }
      ]
    },
    {
      "cell_type": "code",
      "source": [
        "c2 = Conv2D(128, (7,7), activation='relu')(m1)\n",
        "m2 = MaxPooling2D(64, (2,2), padding='same')(c2)"
      ],
      "metadata": {
        "id": "Tsh25NETathS"
      },
      "execution_count": 85,
      "outputs": []
    },
    {
      "cell_type": "code",
      "source": [
        "c2"
      ],
      "metadata": {
        "colab": {
          "base_uri": "https://localhost:8080/"
        },
        "id": "mDu3ZmKpatbT",
        "outputId": "41743a25-2648-4c55-e492-f4a51ef9f910"
      },
      "execution_count": 86,
      "outputs": [
        {
          "output_type": "execute_result",
          "data": {
            "text/plain": [
              "<KerasTensor: shape=(None, 42, 42, 128) dtype=float32 (created by layer 'conv2d_9')>"
            ]
          },
          "metadata": {},
          "execution_count": 86
        }
      ]
    },
    {
      "cell_type": "code",
      "source": [
        "m2"
      ],
      "metadata": {
        "colab": {
          "base_uri": "https://localhost:8080/"
        },
        "id": "PUnwvCSNatTf",
        "outputId": "d1e73181-39de-4045-b877-c16819a045dd"
      },
      "execution_count": 87,
      "outputs": [
        {
          "output_type": "execute_result",
          "data": {
            "text/plain": [
              "<KerasTensor: shape=(None, 21, 21, 128) dtype=float32 (created by layer 'max_pooling2d_7')>"
            ]
          },
          "metadata": {},
          "execution_count": 87
        }
      ]
    },
    {
      "cell_type": "code",
      "source": [
        "c3 = Conv2D(128, (4,4), activation='relu')(m2)\n",
        "m3 = MaxPooling2D(64, (2,2), padding='same')(c3)"
      ],
      "metadata": {
        "id": "MveqyQkKdAKd"
      },
      "execution_count": 88,
      "outputs": []
    },
    {
      "cell_type": "code",
      "source": [
        "m3"
      ],
      "metadata": {
        "colab": {
          "base_uri": "https://localhost:8080/"
        },
        "id": "zLv8p0SidAIX",
        "outputId": "9dc4fdf9-315b-4f15-cdd5-2cbceced97e1"
      },
      "execution_count": 89,
      "outputs": [
        {
          "output_type": "execute_result",
          "data": {
            "text/plain": [
              "<KerasTensor: shape=(None, 9, 9, 128) dtype=float32 (created by layer 'max_pooling2d_8')>"
            ]
          },
          "metadata": {},
          "execution_count": 89
        }
      ]
    },
    {
      "cell_type": "code",
      "source": [
        "c4 = Conv2D(256, (4,4), activation='relu')(m3)\n",
        "f1 = Flatten()(c4)\n",
        "d1 = Dense(4096, activation='sigmoid')(f1)"
      ],
      "metadata": {
        "id": "hT9HHCn4dAGB"
      },
      "execution_count": 90,
      "outputs": []
    },
    {
      "cell_type": "markdown",
      "source": [
        "Flatten results c4=> 6*6*256 = 9216"
      ],
      "metadata": {
        "id": "yUG6iAnEdfyd"
      }
    },
    {
      "cell_type": "code",
      "source": [
        "f1"
      ],
      "metadata": {
        "colab": {
          "base_uri": "https://localhost:8080/"
        },
        "id": "qiIKywQodADa",
        "outputId": "998a5bb2-dfd1-45f8-8023-a19fe272de5e"
      },
      "execution_count": 91,
      "outputs": [
        {
          "output_type": "execute_result",
          "data": {
            "text/plain": [
              "<KerasTensor: shape=(None, 9216) dtype=float32 (created by layer 'flatten_2')>"
            ]
          },
          "metadata": {},
          "execution_count": 91
        }
      ]
    },
    {
      "cell_type": "code",
      "source": [
        "d1"
      ],
      "metadata": {
        "colab": {
          "base_uri": "https://localhost:8080/"
        },
        "id": "-gYNrlA0dAAl",
        "outputId": "cdf2e0ff-31a7-4dc5-95be-ca1e2612ecf6"
      },
      "execution_count": 92,
      "outputs": [
        {
          "output_type": "execute_result",
          "data": {
            "text/plain": [
              "<KerasTensor: shape=(None, 4096) dtype=float32 (created by layer 'dense_4')>"
            ]
          },
          "metadata": {},
          "execution_count": 92
        }
      ]
    },
    {
      "cell_type": "code",
      "source": [
        "mod = Model(inputs=[inp], outputs=[d1], name='embedding')"
      ],
      "metadata": {
        "id": "pDFHIU9gofn8"
      },
      "execution_count": 93,
      "outputs": []
    },
    {
      "cell_type": "code",
      "source": [
        "mod.summary()"
      ],
      "metadata": {
        "colab": {
          "base_uri": "https://localhost:8080/"
        },
        "id": "za4shxElopuR",
        "outputId": "238bd843-c37e-44ad-e958-2ad80d33aff7"
      },
      "execution_count": 94,
      "outputs": [
        {
          "output_type": "stream",
          "name": "stdout",
          "text": [
            "Model: \"embedding\"\n",
            "_________________________________________________________________\n",
            " Layer (type)                Output Shape              Param #   \n",
            "=================================================================\n",
            " input_img (InputLayer)      [(None, 105, 105, 3)]     0         \n",
            "                                                                 \n",
            " conv2d_8 (Conv2D)           (None, 96, 96, 64)        19264     \n",
            "                                                                 \n",
            " max_pooling2d_6 (MaxPooling  (None, 48, 48, 64)       0         \n",
            " 2D)                                                             \n",
            "                                                                 \n",
            " conv2d_9 (Conv2D)           (None, 42, 42, 128)       401536    \n",
            "                                                                 \n",
            " max_pooling2d_7 (MaxPooling  (None, 21, 21, 128)      0         \n",
            " 2D)                                                             \n",
            "                                                                 \n",
            " conv2d_10 (Conv2D)          (None, 18, 18, 128)       262272    \n",
            "                                                                 \n",
            " max_pooling2d_8 (MaxPooling  (None, 9, 9, 128)        0         \n",
            " 2D)                                                             \n",
            "                                                                 \n",
            " conv2d_11 (Conv2D)          (None, 6, 6, 256)         524544    \n",
            "                                                                 \n",
            " flatten_2 (Flatten)         (None, 9216)              0         \n",
            "                                                                 \n",
            " dense_4 (Dense)             (None, 4096)              37752832  \n",
            "                                                                 \n",
            "=================================================================\n",
            "Total params: 38,960,448\n",
            "Trainable params: 38,960,448\n",
            "Non-trainable params: 0\n",
            "_________________________________________________________________\n"
          ]
        }
      ]
    },
    {
      "cell_type": "code",
      "source": [
        "def make_embedding():\n",
        "  #Input image 105x105\n",
        "  inp = Input(shape=(105,105,3), name='input_image')\n",
        "\n",
        "  #Applying Convulution layer\n",
        "  c1 = Conv2D(64, (10,10), activation='relu')(inp)\n",
        "\n",
        "  # Maxpooling the c1 layer\n",
        "  m1 = MaxPooling2D(64, (2,2), padding='same')(c1)\n",
        "\n",
        "  #Second Block for neural network\n",
        "  c2 = Conv2D(128, (7,7), activation='relu')(m1)\n",
        "  m2 = MaxPooling2D(64, (2,2), padding='same')(c2)\n",
        "\n",
        "  #Third Block for neural network\n",
        "  c3 = Conv2D(128, (4,4), activation='relu')(m2)\n",
        "  m3 = MaxPooling2D(64, (2,2), padding='same')(c3)\n",
        "\n",
        "  #Final convolution then flatten and densing the layer i.e embedding layer\n",
        "  c4 = Conv2D(256, (4,4), activation='relu')(m3)\n",
        "  f1 = Flatten()(c4)\n",
        "  d1 = Dense(4096, activation='sigmoid')(f1)\n",
        "  \n",
        "\n",
        "\n",
        "  return Model(inputs=[inp], outputs=[d1], name='embedding')"
      ],
      "metadata": {
        "id": "RBZsxxFyXhtR"
      },
      "execution_count": 95,
      "outputs": []
    },
    {
      "cell_type": "code",
      "source": [
        "embedding = make_embedding()"
      ],
      "metadata": {
        "id": "1baLOlhckylv"
      },
      "execution_count": 96,
      "outputs": []
    },
    {
      "cell_type": "code",
      "source": [
        "embedding.summary()"
      ],
      "metadata": {
        "colab": {
          "base_uri": "https://localhost:8080/"
        },
        "id": "q0eI_z1opJTV",
        "outputId": "2d575873-8bc1-4af6-db1c-7bb31f843e92"
      },
      "execution_count": 97,
      "outputs": [
        {
          "output_type": "stream",
          "name": "stdout",
          "text": [
            "Model: \"embedding\"\n",
            "_________________________________________________________________\n",
            " Layer (type)                Output Shape              Param #   \n",
            "=================================================================\n",
            " input_image (InputLayer)    [(None, 105, 105, 3)]     0         \n",
            "                                                                 \n",
            " conv2d_12 (Conv2D)          (None, 96, 96, 64)        19264     \n",
            "                                                                 \n",
            " max_pooling2d_9 (MaxPooling  (None, 48, 48, 64)       0         \n",
            " 2D)                                                             \n",
            "                                                                 \n",
            " conv2d_13 (Conv2D)          (None, 42, 42, 128)       401536    \n",
            "                                                                 \n",
            " max_pooling2d_10 (MaxPoolin  (None, 21, 21, 128)      0         \n",
            " g2D)                                                            \n",
            "                                                                 \n",
            " conv2d_14 (Conv2D)          (None, 18, 18, 128)       262272    \n",
            "                                                                 \n",
            " max_pooling2d_11 (MaxPoolin  (None, 9, 9, 128)        0         \n",
            " g2D)                                                            \n",
            "                                                                 \n",
            " conv2d_15 (Conv2D)          (None, 6, 6, 256)         524544    \n",
            "                                                                 \n",
            " flatten_3 (Flatten)         (None, 9216)              0         \n",
            "                                                                 \n",
            " dense_5 (Dense)             (None, 4096)              37752832  \n",
            "                                                                 \n",
            "=================================================================\n",
            "Total params: 38,960,448\n",
            "Trainable params: 38,960,448\n",
            "Non-trainable params: 0\n",
            "_________________________________________________________________\n"
          ]
        }
      ]
    },
    {
      "cell_type": "markdown",
      "source": [
        "#Building DISTANCE LAYER\n",
        "This is the defining characteristic in Siamese Neural Network used for Keras layering"
      ],
      "metadata": {
        "id": "SbQVD4ySpdJX"
      }
    },
    {
      "cell_type": "code",
      "source": [
        "class L1Dist(Layer):\n",
        "\n",
        "  #Inheritance\n",
        "  def __init__(self,**kwargs):\n",
        "    super().__init__()\n",
        "\n",
        "    #Turning the feature vector(d1) into one single output\n",
        "    def call(self, input_embedding, validation_embedding):\n",
        "      return tf.math.abs(input_embedding - validation_embedding)"
      ],
      "metadata": {
        "id": "FPrUURKypLkI"
      },
      "execution_count": 98,
      "outputs": []
    },
    {
      "cell_type": "code",
      "source": [
        "siamese_layer = L1Dist()"
      ],
      "metadata": {
        "id": "mDEtV1RzrOR_"
      },
      "execution_count": 99,
      "outputs": []
    },
    {
      "cell_type": "markdown",
      "source": [
        "# SIAMESE NEURAL NETWORK"
      ],
      "metadata": {
        "id": "Icao78XSryEU"
      }
    },
    {
      "cell_type": "code",
      "source": [
        "input_image = Input(name='input_img', shape=(105,105,3))\n",
        "validation_image = Input(name='validation_img', shape=(105,105,3))"
      ],
      "metadata": {
        "id": "zWI-fyzptvG2"
      },
      "execution_count": 100,
      "outputs": []
    },
    {
      "cell_type": "code",
      "source": [
        "inp_embedding = embedding(input_image)\n",
        "val_embedding = embedding(validation_image)"
      ],
      "metadata": {
        "id": "D6p-ntjDtvEQ"
      },
      "execution_count": 101,
      "outputs": []
    },
    {
      "cell_type": "code",
      "source": [
        "distances = siamese_layer(inp_embedding, val_embedding)"
      ],
      "metadata": {
        "id": "eq0hIOs4tu9Q"
      },
      "execution_count": 102,
      "outputs": []
    },
    {
      "cell_type": "code",
      "source": [
        "classifier = Dense(1, activation='sigmoid')(distances)"
      ],
      "metadata": {
        "id": "mTCJrTG9u3a3"
      },
      "execution_count": 103,
      "outputs": []
    },
    {
      "cell_type": "code",
      "source": [
        "classifier"
      ],
      "metadata": {
        "colab": {
          "base_uri": "https://localhost:8080/"
        },
        "id": "ag8AlR-Cu66B",
        "outputId": "43aecb91-ff72-4faf-f1b6-8b8b166ead91"
      },
      "execution_count": 104,
      "outputs": [
        {
          "output_type": "execute_result",
          "data": {
            "text/plain": [
              "<KerasTensor: shape=(None, 1) dtype=float32 (created by layer 'dense_6')>"
            ]
          },
          "metadata": {},
          "execution_count": 104
        }
      ]
    },
    {
      "cell_type": "code",
      "source": [
        "siamese_network = Model(inputs=[input_image, validation_image], outputs=classifier, name='SiameseNetwork')"
      ],
      "metadata": {
        "id": "03LRAZ5qvOjS"
      },
      "execution_count": 105,
      "outputs": []
    },
    {
      "cell_type": "code",
      "source": [
        "siamese_network.summary()"
      ],
      "metadata": {
        "colab": {
          "base_uri": "https://localhost:8080/"
        },
        "id": "f-eU4JLqvRi-",
        "outputId": "52c3c26c-8162-47dd-d887-c84d4c43b471"
      },
      "execution_count": 106,
      "outputs": [
        {
          "output_type": "stream",
          "name": "stdout",
          "text": [
            "Model: \"SiameseNetwork\"\n",
            "__________________________________________________________________________________________________\n",
            " Layer (type)                   Output Shape         Param #     Connected to                     \n",
            "==================================================================================================\n",
            " input_img (InputLayer)         [(None, 105, 105, 3  0           []                               \n",
            "                                )]                                                                \n",
            "                                                                                                  \n",
            " validation_img (InputLayer)    [(None, 105, 105, 3  0           []                               \n",
            "                                )]                                                                \n",
            "                                                                                                  \n",
            " embedding (Functional)         (None, 4096)         38960448    ['input_img[0][0]',              \n",
            "                                                                  'validation_img[0][0]']         \n",
            "                                                                                                  \n",
            " l1_dist_2 (L1Dist)             (None, 4096)         0           ['embedding[0][0]',              \n",
            "                                                                  'embedding[1][0]']              \n",
            "                                                                                                  \n",
            " dense_6 (Dense)                (None, 1)            4097        ['l1_dist_2[0][0]']              \n",
            "                                                                                                  \n",
            "==================================================================================================\n",
            "Total params: 38,964,545\n",
            "Trainable params: 38,964,545\n",
            "Non-trainable params: 0\n",
            "__________________________________________________________________________________________________\n"
          ]
        }
      ]
    },
    {
      "cell_type": "code",
      "source": [
        "def make_siamese_model():\n",
        "\n",
        "  #Handling the input images\n",
        "  input_image = Input(name='input_img', shape=(105,105,3))\n",
        "  validation_image = Input(name='validation_img', shape=(105,105,3))\n",
        "\n",
        "  #Siamese Distance components\n",
        "  siamese_layer = L1Dist()\n",
        "  siamese_layer._name = 'Distance'\n",
        "  distances = siamese_layer(embedding(input_image), embedding(validation_image))\n",
        "\n",
        "  #Classification \n",
        "  classifier = Dense(1, activation='sigmoid')(distances)\n",
        "\n",
        "  return Model(inputs=[input_image, validation_image], outputs=classifier, name='SiameseNetwork')\n"
      ],
      "metadata": {
        "id": "O7DZ1-2pr6r6"
      },
      "execution_count": 107,
      "outputs": []
    },
    {
      "cell_type": "code",
      "source": [
        "siamese_model = make_siamese_model()"
      ],
      "metadata": {
        "id": "dmq0kNimvh0n"
      },
      "execution_count": 108,
      "outputs": []
    },
    {
      "cell_type": "code",
      "source": [
        "siamese_model.summary()"
      ],
      "metadata": {
        "colab": {
          "base_uri": "https://localhost:8080/"
        },
        "id": "8j9e5JsLvlIm",
        "outputId": "2b076ab0-9b6f-410e-b05a-271fe5bb4b03"
      },
      "execution_count": 109,
      "outputs": [
        {
          "output_type": "stream",
          "name": "stdout",
          "text": [
            "Model: \"SiameseNetwork\"\n",
            "__________________________________________________________________________________________________\n",
            " Layer (type)                   Output Shape         Param #     Connected to                     \n",
            "==================================================================================================\n",
            " input_img (InputLayer)         [(None, 105, 105, 3  0           []                               \n",
            "                                )]                                                                \n",
            "                                                                                                  \n",
            " validation_img (InputLayer)    [(None, 105, 105, 3  0           []                               \n",
            "                                )]                                                                \n",
            "                                                                                                  \n",
            " embedding (Functional)         (None, 4096)         38960448    ['input_img[0][0]',              \n",
            "                                                                  'validation_img[0][0]']         \n",
            "                                                                                                  \n",
            " Distance (L1Dist)              (None, 4096)         0           ['embedding[2][0]',              \n",
            "                                                                  'embedding[3][0]']              \n",
            "                                                                                                  \n",
            " dense_7 (Dense)                (None, 1)            4097        ['Distance[0][0]']               \n",
            "                                                                                                  \n",
            "==================================================================================================\n",
            "Total params: 38,964,545\n",
            "Trainable params: 38,964,545\n",
            "Non-trainable params: 0\n",
            "__________________________________________________________________________________________________\n"
          ]
        }
      ]
    },
    {
      "cell_type": "markdown",
      "source": [
        "**Loss and Optimiser Setup**"
      ],
      "metadata": {
        "id": "PBs0JKbqqSFd"
      }
    },
    {
      "cell_type": "code",
      "source": [
        "binary_cross_loss = tf.losses.BinaryCrossentropy()"
      ],
      "metadata": {
        "id": "K8_xnTBaqRfK"
      },
      "execution_count": 110,
      "outputs": []
    },
    {
      "cell_type": "code",
      "source": [
        "opt = tf.keras.optimizers.Adam(1e-4)"
      ],
      "metadata": {
        "id": "ZksxkddGqRdF"
      },
      "execution_count": 111,
      "outputs": []
    },
    {
      "cell_type": "markdown",
      "source": [
        "**Checkpoint Components**"
      ],
      "metadata": {
        "id": "O5oHEphir6Vo"
      }
    },
    {
      "cell_type": "code",
      "source": [
        "cp = os.path.join('training_checkpoints')\n",
        "os.makedirs(cp)\n",
        "checkpoint_dir = './training_checkpoint'\n",
        "checkpoint_prefix = os.path.join(checkpoint_dir, 'ckpt')\n",
        "checkpoint = tf.train.Checkpoint(opt=opt, siamese_model=siamese_model)"
      ],
      "metadata": {
        "id": "g5rDO6uCqRay"
      },
      "execution_count": null,
      "outputs": []
    },
    {
      "cell_type": "markdown",
      "source": [
        "**Train Step Function**"
      ],
      "metadata": {
        "id": "F-qM2GfTtroK"
      }
    },
    {
      "cell_type": "code",
      "source": [
        "@tf.function\n",
        "def train_step(batch):\n",
        "\n",
        "  with tf.GradientTape() as tape:\n",
        "\n",
        "    #Fetch Anchor Images\n",
        "    X = batch[:2]\n",
        "    #Fetch Label\n",
        "    y = batch[2]\n",
        "\n",
        "    #predict \n",
        "    yhat = siamese_model(X, training=True)\n",
        "\n",
        "    #Calc Loss\n",
        "    loss = binary_cross_loss(y, yhat)\n",
        "  print(loss)\n",
        "\n",
        "  #calculate gradients\n",
        "  grad = tape.gradient(loss, siamese_model.trainable_variables)\n",
        "\n",
        "  #Calculate updated weights and apply to siamese model\n",
        "  opt.apply_gradients(zip(grad, siamese_model.trainable_variables))  \n",
        "  return loss"
      ],
      "metadata": {
        "id": "X-noqppYtwG5"
      },
      "execution_count": 116,
      "outputs": []
    },
    {
      "cell_type": "markdown",
      "source": [
        "**Training Loop**"
      ],
      "metadata": {
        "id": "xiKH4Ih6yENO"
      }
    },
    {
      "cell_type": "code",
      "source": [
        "def train(data, EPOCHS):\n",
        "  #Loop through all epochs\n",
        "  for epoch in range(1, EPOCHS+1):\n",
        "    print(('\\n EPOCH {}/{}'.format(epoch, EPOCHS)))\n",
        "    progbar = tf.keras.utils.Progbar(len(data))\n",
        "\n",
        "    #Looping through each batch\n",
        "    for idx, batch in enumerate(data):\n",
        "      #Running Train Step \n",
        "      train_step(batch)\n",
        "      progbar.update(idx+1)\n",
        "\n",
        "      #Save the checkpoints\n",
        "      if epoch % 10 == 0:\n",
        "        checkpoint.save(file_prefix=checkpoint_prefix)\n"
      ],
      "metadata": {
        "id": "wq5yQbXfyGOH"
      },
      "execution_count": 117,
      "outputs": []
    },
    {
      "cell_type": "markdown",
      "source": [
        "**Train the Model**"
      ],
      "metadata": {
        "id": "jaOb3SsP0Die"
      }
    },
    {
      "cell_type": "code",
      "source": [
        "EPOCHS = 50"
      ],
      "metadata": {
        "id": "g-l9Lka5zx-x"
      },
      "execution_count": 118,
      "outputs": []
    },
    {
      "cell_type": "code",
      "source": [
        "train(train_data, EPOCHS)"
      ],
      "metadata": {
        "colab": {
          "base_uri": "https://localhost:8080/"
        },
        "id": "tUa7oNk11sTi",
        "outputId": "1474b6e9-cfe9-42c8-e2e8-35f52edf44e4"
      },
      "execution_count": 119,
      "outputs": [
        {
          "output_type": "stream",
          "name": "stdout",
          "text": [
            "\n",
            " EPOCH 1/50\n",
            "Tensor(\"binary_crossentropy/weighted_loss/value:0\", shape=(), dtype=float32)\n",
            "Tensor(\"binary_crossentropy/weighted_loss/value:0\", shape=(), dtype=float32)\n",
            "13/14 [==========================>...] - ETA: 0sTensor(\"binary_crossentropy/weighted_loss/value:0\", shape=(), dtype=float32)\n",
            "14/14 [==============================] - 15s 137ms/step\n",
            "\n",
            " EPOCH 2/50\n",
            "14/14 [==============================] - 2s 118ms/step\n",
            "\n",
            " EPOCH 3/50\n",
            "14/14 [==============================] - 1s 110ms/step\n",
            "\n",
            " EPOCH 4/50\n",
            "14/14 [==============================] - 1s 111ms/step\n",
            "\n",
            " EPOCH 5/50\n",
            "14/14 [==============================] - 1s 110ms/step\n",
            "\n",
            " EPOCH 6/50\n",
            "14/14 [==============================] - 1s 111ms/step\n",
            "\n",
            " EPOCH 7/50\n",
            "14/14 [==============================] - 1s 111ms/step\n",
            "\n",
            " EPOCH 8/50\n",
            "14/14 [==============================] - 1s 111ms/step\n",
            "\n",
            " EPOCH 9/50\n",
            "14/14 [==============================] - 1s 110ms/step\n",
            "\n",
            " EPOCH 10/50\n",
            "14/14 [==============================] - 8s 628ms/step\n",
            "\n",
            " EPOCH 11/50\n",
            "14/14 [==============================] - 1s 108ms/step\n",
            "\n",
            " EPOCH 12/50\n",
            "14/14 [==============================] - 1s 109ms/step\n",
            "\n",
            " EPOCH 13/50\n",
            "14/14 [==============================] - 1s 108ms/step\n",
            "\n",
            " EPOCH 14/50\n",
            "14/14 [==============================] - 1s 108ms/step\n",
            "\n",
            " EPOCH 15/50\n",
            "14/14 [==============================] - 1s 108ms/step\n",
            "\n",
            " EPOCH 16/50\n",
            "14/14 [==============================] - 1s 108ms/step\n",
            "\n",
            " EPOCH 17/50\n",
            "14/14 [==============================] - 1s 108ms/step\n",
            "\n",
            " EPOCH 18/50\n",
            "14/14 [==============================] - 1s 108ms/step\n",
            "\n",
            " EPOCH 19/50\n",
            "14/14 [==============================] - 1s 108ms/step\n",
            "\n",
            " EPOCH 20/50\n",
            "14/14 [==============================] - 8s 619ms/step\n",
            "\n",
            " EPOCH 21/50\n",
            "14/14 [==============================] - 2s 113ms/step\n",
            "\n",
            " EPOCH 22/50\n",
            "14/14 [==============================] - 1s 107ms/step\n",
            "\n",
            " EPOCH 23/50\n",
            "14/14 [==============================] - 1s 107ms/step\n",
            "\n",
            " EPOCH 24/50\n",
            "14/14 [==============================] - 1s 107ms/step\n",
            "\n",
            " EPOCH 25/50\n",
            "14/14 [==============================] - 1s 106ms/step\n",
            "\n",
            " EPOCH 26/50\n",
            "14/14 [==============================] - 1s 107ms/step\n",
            "\n",
            " EPOCH 27/50\n",
            "14/14 [==============================] - 1s 107ms/step\n",
            "\n",
            " EPOCH 28/50\n",
            "14/14 [==============================] - 1s 107ms/step\n",
            "\n",
            " EPOCH 29/50\n",
            "14/14 [==============================] - 1s 107ms/step\n",
            "\n",
            " EPOCH 30/50\n",
            "14/14 [==============================] - 8s 619ms/step\n",
            "\n",
            " EPOCH 31/50\n",
            "14/14 [==============================] - 1s 107ms/step\n",
            "\n",
            " EPOCH 32/50\n",
            "14/14 [==============================] - 1s 108ms/step\n",
            "\n",
            " EPOCH 33/50\n",
            "14/14 [==============================] - 1s 108ms/step\n",
            "\n",
            " EPOCH 34/50\n",
            "14/14 [==============================] - 1s 108ms/step\n",
            "\n",
            " EPOCH 35/50\n",
            "14/14 [==============================] - 1s 108ms/step\n",
            "\n",
            " EPOCH 36/50\n",
            "14/14 [==============================] - 1s 108ms/step\n",
            "\n",
            " EPOCH 37/50\n",
            "14/14 [==============================] - 1s 109ms/step\n",
            "\n",
            " EPOCH 38/50\n",
            "14/14 [==============================] - 1s 109ms/step\n",
            "\n",
            " EPOCH 39/50\n",
            "14/14 [==============================] - 1s 109ms/step\n",
            "\n",
            " EPOCH 40/50\n",
            "14/14 [==============================] - 8s 632ms/step\n",
            "\n",
            " EPOCH 41/50\n",
            "14/14 [==============================] - 2s 113ms/step\n",
            "\n",
            " EPOCH 42/50\n",
            "14/14 [==============================] - 1s 108ms/step\n",
            "\n",
            " EPOCH 43/50\n",
            "14/14 [==============================] - 1s 108ms/step\n",
            "\n",
            " EPOCH 44/50\n",
            "14/14 [==============================] - 1s 108ms/step\n",
            "\n",
            " EPOCH 45/50\n",
            "14/14 [==============================] - 1s 108ms/step\n",
            "\n",
            " EPOCH 46/50\n",
            "14/14 [==============================] - 1s 109ms/step\n",
            "\n",
            " EPOCH 47/50\n",
            "14/14 [==============================] - 1s 109ms/step\n",
            "\n",
            " EPOCH 48/50\n",
            "14/14 [==============================] - 1s 108ms/step\n",
            "\n",
            " EPOCH 49/50\n",
            "14/14 [==============================] - 1s 109ms/step\n",
            "\n",
            " EPOCH 50/50\n",
            "14/14 [==============================] - 8s 616ms/step\n"
          ]
        }
      ]
    }
  ]
}